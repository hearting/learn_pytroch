{
 "cells": [
  {
   "cell_type": "code",
   "execution_count": 2,
   "id": "74a861eb",
   "metadata": {},
   "outputs": [],
   "source": [
    "# 创建一个简单的三层网络，在输入层中有5个节点，在隐藏层中有3个节点，在输出层中有1个节点。使用一个带有五个特征和一个目标的单行训练示例\n",
    "import torch\n",
    "n_input, n_hidden, n_output = 5, 3, 1\n",
    "## initialize tensor for inputs, and outputs\n",
    "x = torch.randn((1, n_input))\n",
    "y = torch.randn((1, n_output))\n",
    "## initialize tensor variables for weights\n",
    "w1 = torch.randn(n_input, n_hidden) # weight for hidden layer\n",
    "w2 = torch.randn(n_hidden, n_output) # weight for output layer\n",
    "## initialize tensor variables for bias terms\n",
    "b1 = torch.randn((1, n_hidden)) # bias for hidden layer\n",
    "b2 = torch.randn((1, n_output)) # bias for output layer\n",
    "\n",
    "# 前向传播：在这个步骤中，每个层都使用以下两个公式计算激活流。这些激活流从输入层流向输出层，以生成最终输出。\n",
    "\n",
    "# 1. z = weight * input + bias\n",
    "\n",
    "# 2. a = activation_function (z)\n",
    "## sigmoid activation function using pytorch\n",
    "def sigmoid_activation(z):\n",
    "    return 1 / (1 + torch.exp(-z))\n",
    "## activation of hidden layer\n",
    "z1 = torch.mm(x, w1) + b1\n",
    "a1 = sigmoid_activation(z1)\n",
    "z2 = torch.mm(z1, w2) + b2\n",
    "a2 = sigmoid_activation(z2)\n",
    "loss = y - z2\n",
    "# 反向传播：这一步的目的是通过对偏差和权重进行边际变化，从而将输出层的误差降到最低，边际变化是利用误差项的导数计算出来的。\n",
    "## function to calculate the derivative of activation\n",
    "def sigmoid_delta(x):\n",
    "    return x * (1 - x)\n",
    "## compute derivative of error terms\n",
    "delta_output = sigmoid_delta(z2)\n",
    "delta_hidden = sigmoid_delta(a1)\n",
    "## backpass the changes to previous layers\n",
    "d_outp = loss * delta_output\n",
    "loss_h = torch.mm(d_outp, w2.t())\n",
    "d_hidn = loss_h * delta_hidden\n",
    "\n",
    "# 更新参数：最后一步，利用从上述反向传播中接收到的增量变化来对权重和偏差进行更新。\n",
    "\n",
    "learning_rate = 0.1\n",
    "w2 += torch.mm(a1.t(), d_outp) * learning_rate\n",
    "w1 += torch.mm(x.t(), d_hidn) * learning_rate\n",
    "b2 += d_outp.sum() * learning_rate\n",
    "b1 += d_hidn.sum() * learning_rate"
   ]
  },
  {
   "cell_type": "code",
   "execution_count": 8,
   "id": "10164353",
   "metadata": {},
   "outputs": [
    {
     "data": {
      "text/plain": [
       "<matplotlib.legend.Legend at 0x1ad2714cdf0>"
      ]
     },
     "execution_count": 8,
     "metadata": {},
     "output_type": "execute_result"
    },
    {
     "data": {
      "image/png": "[encoded data removed]",
      "text/plain": [
       "<Figure size 576x432 with 4 Axes>"
      ]
     },
     "metadata": {
      "needs_background": "light"
     },
     "output_type": "display_data"
    }
   ],
   "source": [
    "\"\"\"\n",
    "author: PWG\n",
    "date: 2022-03-29 12:18\n",
    "\"\"\"\n",
    "import torch\n",
    "import torch.nn.functional as F\n",
    "from torch.autograd import Variable\n",
    "import matplotlib. pyplot as plt\n",
    "# fake data\n",
    "x = torch. linspace (-5, 5, 200) # x data (tensor), shape=(100, 1)\n",
    "x=Variable(x)\n",
    "x_np = x.data.numpy()\n",
    "y_relu = F.relu(x).data.numpy()\n",
    "y_sigmoid = torch.sigmoid (x).data.numpy()\n",
    "y_tanh = torch.tanh (x). data. numpy ()\n",
    "y_softplus = F.softplus (x). data. numpy()\n",
    "plt.figure(1, figsize=(8, 6))\n",
    "plt.subplot (221)\n",
    "plt.plot(x_np, y_relu, c='red', label='relu')\n",
    "plt.ylim((-1, 5))\n",
    "plt.legend(loc='best')\n",
    "plt.subplot (222)\n",
    "plt.plot(x_np, y_sigmoid, c='red', label='sigşoid')\n",
    "plt.ylim((-0.2, 1.2))\n",
    "plt.legend(loc='best')\n",
    "plt.subplot (223)\n",
    "plt.plot(x_np, y_tanh, c='red', label='tanh')\n",
    "plt.ylim((-1.2, 1.2))\n",
    "plt.legend(loc='best')\n",
    "plt.subplot(224)\n",
    "plt.plot(x_np, y_softplus, c='red', label='y_softplus')\n",
    "plt.ylim((-1.2, 1.2))\n",
    "plt.legend(loc='best')\n"
   ]
  },
  {
   "cell_type": "code",
   "execution_count": null,
   "id": "f4cba648",
   "metadata": {},
   "outputs": [],
   "source": []
  }
 ],
 "metadata": {
  "kernelspec": {
   "display_name": "Python 3 (ipykernel)",
   "language": "python",
   "name": "python3"
  },
  "language_info": {
   "codemirror_mode": {
    "name": "ipython",
    "version": 3
   },
   "file_extension": ".py",
   "mimetype": "text/x-python",
   "name": "python",
   "nbconvert_exporter": "python",
   "pygments_lexer": "ipython3",
   "version": "3.8.12"
  }
 },
 "nbformat": 4,
 "nbformat_minor": 5
}
