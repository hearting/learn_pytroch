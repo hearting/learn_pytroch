{
 "cells": [
  {
   "cell_type": "code",
   "execution_count": 4,
   "id": "d53d9828",
   "metadata": {},
   "outputs": [
    {
     "name": "stdout",
     "output_type": "stream",
     "text": [
      "tensor([[4.2246e-39, 1.0194e-38, 9.1837e-39],\n",
      "        [8.4490e-39, 1.0102e-38, 1.0561e-38],\n",
      "        [9.1837e-39, 9.9183e-39, 9.9184e-39],\n",
      "        [9.0000e-39, 1.0561e-38, 1.0653e-38],\n",
      "        [4.1327e-39, 8.9082e-39, 9.8265e-39]])\n",
      "tensor([[0.8481, 0.4516, 0.0117],\n",
      "        [0.0305, 0.7776, 0.0190],\n",
      "        [0.8560, 0.2563, 0.4356],\n",
      "        [0.0891, 0.9137, 0.8449],\n",
      "        [0.8020, 0.5094, 0.7527]])\n",
      "tensor([[0, 0, 0],\n",
      "        [0, 0, 0],\n",
      "        [0, 0, 0],\n",
      "        [0, 0, 0],\n",
      "        [0, 0, 0]])\n",
      "tensor([5.5000, 3.0000])\n",
      "tensor([[1., 1., 1.],\n",
      "        [1., 1., 1.],\n",
      "        [1., 1., 1.],\n",
      "        [1., 1., 1.],\n",
      "        [1., 1., 1.]], dtype=torch.float64)\n",
      "tensor([[ 0.5945, -1.4122,  0.9841],\n",
      "        [-0.3648,  0.1630,  0.4328],\n",
      "        [ 0.1147, -0.4017,  0.4323],\n",
      "        [-0.3492, -2.5120,  0.9327],\n",
      "        [ 0.3452, -0.1109,  2.0934]])\n",
      "torch.Size([5, 3])\n",
      "torch.Size([5, 3])\n",
      "tensor([[ 1.4426, -0.9606,  0.9958],\n",
      "        [-0.3342,  0.9405,  0.4518],\n",
      "        [ 0.9707, -0.1455,  0.8679],\n",
      "        [-0.2602, -1.5983,  1.7776],\n",
      "        [ 1.1472,  0.3985,  2.8462]])\n",
      "tensor([[ 1.4426, -0.9606,  0.9958],\n",
      "        [-0.3342,  0.9405,  0.4518],\n",
      "        [ 0.9707, -0.1455,  0.8679],\n",
      "        [-0.2602, -1.5983,  1.7776],\n",
      "        [ 1.1472,  0.3985,  2.8462]])\n"
     ]
    }
   ],
   "source": [
    "import torch\n",
    "# 创建一个5x3的未初始化的Tensor\n",
    "x=torch.empty(5,3)\n",
    "print(x)\n",
    "# 创建一个5x3的随机初始化的Tensor\n",
    "y=torch.rand(5,3)\n",
    "print(y)\n",
    "# 创建一个5x3的long型全0的Tensor\n",
    "z=torch.zeros(5,3,dtype=torch.long)\n",
    "print(z)\n",
    "# 直接根据数据创建:\n",
    "x = torch.tensor([5.5, 3])\n",
    "print(x)\n",
    "x = x.new_ones(5, 3, dtype=torch.float64)  # 返回的tensor默认具有相同的torch.dtype和torch.device\n",
    "print(x)\n",
    "\n",
    "x = torch.randn_like(x, dtype=torch.float) # 指定新的数据类型\n",
    "print(x) \n",
    "print(x.size())\n",
    "print(x.shape)\n",
    "\n",
    "result = torch.empty(5, 3)\n",
    "torch.add(x, y, out=result)\n",
    "print(result)\n",
    "\n",
    "y.add_(x)\n",
    "print(y)\n"
   ]
  },
  {
   "cell_type": "code",
   "execution_count": 5,
   "id": "00b1e872",
   "metadata": {},
   "outputs": [
    {
     "name": "stdout",
     "output_type": "stream",
     "text": [
      "tensor([ 0.5945, -1.4122,  0.9841])\n",
      "tensor([ 0.5945, -1.4122,  0.9841])\n"
     ]
    }
   ],
   "source": [
    "y = x[0, :]\n",
    "# y += 1\n",
    "print(y)\n",
    "print(x[0, :]) # 源tensor也被改了\n"
   ]
  },
  {
   "cell_type": "code",
   "execution_count": 6,
   "id": "ab101408",
   "metadata": {},
   "outputs": [
    {
     "name": "stdout",
     "output_type": "stream",
     "text": [
      "torch.Size([5, 3]) torch.Size([15]) torch.Size([3, 5])\n",
      "tensor([[ 0.5945, -1.4122,  0.9841, -0.3648,  0.1630],\n",
      "        [ 0.4328,  0.1147, -0.4017,  0.4323, -0.3492],\n",
      "        [-2.5120,  0.9327,  0.3452, -0.1109,  2.0934]])\n"
     ]
    }
   ],
   "source": [
    "# 用view()来改变Tensor的形状：\n",
    "\n",
    "y = x.view(15)\n",
    "z = x.view(-1, 5)  # -1所指的维度可以根据其他维度的值推出来\n",
    "print(x.size(), y.size(), z.size())\n",
    "print(z)"
   ]
  },
  {
   "cell_type": "code",
   "execution_count": 7,
   "id": "a6aa8860",
   "metadata": {},
   "outputs": [
    {
     "name": "stdout",
     "output_type": "stream",
     "text": [
      "tensor([[ 1.5945, -0.4122,  1.9841],\n",
      "        [ 0.6352,  1.1630,  1.4328],\n",
      "        [ 1.1147,  0.5983,  1.4323],\n",
      "        [ 0.6508, -1.5120,  1.9327],\n",
      "        [ 1.3452,  0.8891,  3.0934]], device='cuda:0')\n",
      "tensor([[ 1.5945, -0.4122,  1.9841],\n",
      "        [ 0.6352,  1.1630,  1.4328],\n",
      "        [ 1.1147,  0.5983,  1.4323],\n",
      "        [ 0.6508, -1.5120,  1.9327],\n",
      "        [ 1.3452,  0.8891,  3.0934]], dtype=torch.float64)\n"
     ]
    }
   ],
   "source": [
    "# 以下代码只有在PyTorch GPU版本上才会执行\n",
    "if torch.cuda.is_available():\n",
    "    device = torch.device(\"cuda\")          # GPU\n",
    "    y = torch.ones_like(x, device=device)  # 直接创建一个在GPU上的Tensor\n",
    "    x = x.to(device)                       # 等价于 .to(\"cuda\")\n",
    "    z = x + y\n",
    "    print(z)\n",
    "    print(z.to(\"cpu\", torch.double))       # to()还可以同时更改数据类型"
   ]
  },
  {
   "cell_type": "code",
   "execution_count": 7,
   "id": "ca186c0f",
   "metadata": {},
   "outputs": [],
   "source": []
  },
  {
   "cell_type": "code",
   "execution_count": 7,
   "id": "64851634",
   "metadata": {},
   "outputs": [],
   "source": []
  }
 ],
 "metadata": {
  "kernelspec": {
   "display_name": "Python 3 (ipykernel)",
   "language": "python",
   "name": "python3"
  },
  "language_info": {
   "codemirror_mode": {
    "name": "ipython",
    "version": 3
   },
   "file_extension": ".py",
   "mimetype": "text/x-python",
   "name": "python",
   "nbconvert_exporter": "python",
   "pygments_lexer": "ipython3",
   "version": "3.8.12"
  }
 },
 "nbformat": 4,
 "nbformat_minor": 5
}